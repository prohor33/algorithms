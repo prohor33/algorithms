{
 "cells": [
  {
   "cell_type": "code",
   "execution_count": 1,
   "id": "6b6f8447",
   "metadata": {},
   "outputs": [],
   "source": [
    "# binary search insert less, finds first place to insert target in sorted array\n",
    "# returns index of an element on which positions to insert\n",
    "# [1, 3, 3, 3, 3, 4], target = 2 => 1\n",
    "def binary_search(data, x):\n",
    "    l = 0\n",
    "    r = len(data)  # specially for returning index after last\n",
    "    while l < r:\n",
    "        m = l + (r - l) // 2\n",
    "        if x > data[m]:\n",
    "            l = m + 1\n",
    "        else:\n",
    "            r = m\n",
    "    return l"
   ]
  },
  {
   "cell_type": "code",
   "execution_count": 8,
   "id": "7510628e",
   "metadata": {},
   "outputs": [],
   "source": [
    "assert binary_search([0, 1, 2], 1) == 1\n",
    "\n",
    "assert binary_search([], 1) == 0\n",
    "\n",
    "assert binary_search([0, 1], 1) == 1\n",
    "\n",
    "assert binary_search([1], 1) == 0\n",
    "\n",
    "assert binary_search([1], 2) == 1\n",
    "\n",
    "assert binary_search([1, 3, 7, 9], 8) == 3\n",
    "\n",
    "assert binary_search([1, 3, 7, 9, 15, 42], 30) == 5\n",
    "\n",
    "assert binary_search([1, 3, 7, 9, 15, 42], 15) == 4\n",
    "\n",
    "assert binary_search([1, 3, 7, 9, 15, 42], 1) == 0\n",
    "\n",
    "assert binary_search([1, 3, 7, 9, 15, 42], 42) == 5\n",
    "\n",
    "assert binary_search([1, 3, 3, 9, 15, 42], 3) == 1\n",
    "\n",
    "assert binary_search([3, 3, 4, 9, 15, 42], 3) == 0\n",
    "\n",
    "assert binary_search([3, 3, 3, 3, 15, 42], 3) == 0\n",
    "\n",
    "assert binary_search([1, 3, 7, 9, 15, 42], 50) == 6\n",
    "\n",
    "assert binary_search([1, 3, 3, 3, 3, 4], 3) == 1\n",
    "\n",
    "assert binary_search([1, 3, 3, 3, 3, 4, 4], 4) == 5"
   ]
  },
  {
   "cell_type": "code",
   "execution_count": null,
   "id": "fce71f14",
   "metadata": {},
   "outputs": [],
   "source": []
  }
 ],
 "metadata": {
  "kernelspec": {
   "display_name": "Python 3",
   "language": "python",
   "name": "python3"
  },
  "language_info": {
   "codemirror_mode": {
    "name": "ipython",
    "version": 3
   },
   "file_extension": ".py",
   "mimetype": "text/x-python",
   "name": "python",
   "nbconvert_exporter": "python",
   "pygments_lexer": "ipython3",
   "version": "3.7.6"
  }
 },
 "nbformat": 4,
 "nbformat_minor": 5
}
