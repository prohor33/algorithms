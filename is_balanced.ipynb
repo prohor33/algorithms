{
 "cells": [
  {
   "cell_type": "code",
   "execution_count": 41,
   "metadata": {},
   "outputs": [],
   "source": [
    "# для этой задачи определение сбалансированного бинарного дерева -\n",
    "# чтобы любые два поддерева вершины не отличались по высоте больше, чем на 1\n",
    "def is_balanced(node):\n",
    "    return get_depth(node) != -1\n",
    "\n",
    "def get_depth(node):\n",
    "    if not node:\n",
    "        return 0\n",
    "    d_l = get_depth(node.left)\n",
    "    d_r = get_depth(node.right)\n",
    "    if d_l == -1 or d_r == -1:\n",
    "        return -1\n",
    "    if abs(d_l - d_r) > 1:\n",
    "        return -1\n",
    "    return max(d_l, d_r) + 1"
   ]
  },
  {
   "cell_type": "code",
   "execution_count": 49,
   "metadata": {},
   "outputs": [],
   "source": [
    "def draw_tree(node):\n",
    "    q = []\n",
    "    if not node:\n",
    "        return\n",
    "    print('O')\n",
    "    draw_tree_impl((node, 0), q)\n",
    "    \n",
    "def draw_tree_impl(node_depth_pair, q):\n",
    "    node = node_depth_pair[0]\n",
    "    depth = node_depth_pair[1]\n",
    "    if node.left:\n",
    "        print('O', end='       ')\n",
    "        q.insert(0, (node.left, depth + 1))\n",
    "    if node.right:\n",
    "        print('O', end='')\n",
    "        q.insert(0, (node.right, depth + 1))\n",
    "    if q:\n",
    "        if q[-1][1] > depth:\n",
    "            # новая глубина\n",
    "            print('')\n",
    "        draw_tree_impl(q.pop(), q)"
   ]
  },
  {
   "cell_type": "code",
   "execution_count": 2,
   "metadata": {},
   "outputs": [],
   "source": [
    "from collections import namedtuple"
   ]
  },
  {
   "cell_type": "code",
   "execution_count": 3,
   "metadata": {},
   "outputs": [],
   "source": [
    "Node = namedtuple(\"Node\", \"left right\")"
   ]
  },
  {
   "cell_type": "code",
   "execution_count": 52,
   "metadata": {},
   "outputs": [
    {
     "name": "stdout",
     "output_type": "stream",
     "text": [
      "O\n",
      "O       O\n",
      "O       \n"
     ]
    },
    {
     "data": {
      "text/plain": [
       "True"
      ]
     },
     "execution_count": 52,
     "metadata": {},
     "output_type": "execute_result"
    }
   ],
   "source": [
    "tree = Node(Node(Node(None, None), None), Node(None, None))\n",
    "draw_tree(tree)\n",
    "is_balanced(tree)"
   ]
  },
  {
   "cell_type": "code",
   "execution_count": 51,
   "metadata": {},
   "outputs": [
    {
     "name": "stdout",
     "output_type": "stream",
     "text": [
      "O\n",
      "O       \n",
      "O       \n"
     ]
    },
    {
     "data": {
      "text/plain": [
       "False"
      ]
     },
     "execution_count": 51,
     "metadata": {},
     "output_type": "execute_result"
    }
   ],
   "source": [
    "tree = Node(Node(Node(None, None), None), None)\n",
    "draw_tree(tree)\n",
    "is_balanced(tree)"
   ]
  },
  {
   "cell_type": "code",
   "execution_count": 50,
   "metadata": {},
   "outputs": [
    {
     "name": "stdout",
     "output_type": "stream",
     "text": [
      "O\n",
      "O       O\n",
      "O       OO       O\n"
     ]
    },
    {
     "data": {
      "text/plain": [
       "True"
      ]
     },
     "execution_count": 50,
     "metadata": {},
     "output_type": "execute_result"
    }
   ],
   "source": [
    "tree = Node(Node(Node(None, None), Node(None, None)), Node(Node(None, None), Node(None, None)))\n",
    "draw_tree(tree)\n",
    "is_balanced(tree)"
   ]
  },
  {
   "cell_type": "code",
   "execution_count": 53,
   "metadata": {},
   "outputs": [
    {
     "name": "stdout",
     "output_type": "stream",
     "text": [
      "O\n",
      "O       \n",
      "O       O\n"
     ]
    },
    {
     "data": {
      "text/plain": [
       "False"
      ]
     },
     "execution_count": 53,
     "metadata": {},
     "output_type": "execute_result"
    }
   ],
   "source": [
    "tree = Node(Node(Node(None, None), Node(None, None)), None)\n",
    "draw_tree(tree)\n",
    "is_balanced(tree)"
   ]
  },
  {
   "cell_type": "code",
   "execution_count": null,
   "metadata": {},
   "outputs": [],
   "source": []
  }
 ],
 "metadata": {
  "kernelspec": {
   "display_name": "Python 3",
   "language": "python",
   "name": "python3"
  },
  "language_info": {
   "codemirror_mode": {
    "name": "ipython",
    "version": 3
   },
   "file_extension": ".py",
   "mimetype": "text/x-python",
   "name": "python",
   "nbconvert_exporter": "python",
   "pygments_lexer": "ipython3",
   "version": "3.6.7"
  }
 },
 "nbformat": 4,
 "nbformat_minor": 2
}
